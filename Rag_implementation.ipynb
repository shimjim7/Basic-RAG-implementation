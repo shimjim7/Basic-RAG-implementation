{
 "cells": [
  {
   "cell_type": "code",
   "execution_count": 1,
   "id": "b9309db6",
   "metadata": {},
   "outputs": [],
   "source": [
    "corpus_of_documents = [\n",
    "    \"Take a leisurely walk in the park and enjoy the fresh air.\", \n",
    "    \"Visit a local museum and discover something new.\", \n",
    "    \"Attend a live music concert and feel the rhythm.\", \n",
    "    \"Go for a hike and admire the natural scenery.\", \n",
    "    \"Have a picnic with friends and share some laughs.\", \n",
    "    \"Explore a new cuisine by dining at an ethnic restaurant.\", \n",
    "    \"Take a yoga class and stretch your body and mind.\",\n",
    "    \"Join a local sports league and enjoy some friendly competition.\", \n",
    "    \"Attend a workshop or lecture on a topic you're interested in.\", \n",
    "    \"Visit an amusement park and ride the roller coasters.\"]"
   ]
  },
  {
   "cell_type": "code",
   "execution_count": 20,
   "id": "97529420",
   "metadata": {},
   "outputs": [],
   "source": [
    "user_query = \"i am an indian and i live in india\""
   ]
  },
  {
   "cell_type": "code",
   "execution_count": 19,
   "id": "9dc559d7",
   "metadata": {},
   "outputs": [],
   "source": [
    "document = \"india is a country for the indians and for everyone\""
   ]
  },
  {
   "cell_type": "code",
   "execution_count": 21,
   "id": "2a0eb795",
   "metadata": {},
   "outputs": [],
   "source": [
    "from collections import Counter\n",
    "import math"
   ]
  },
  {
   "cell_type": "code",
   "execution_count": 34,
   "id": "89c9cebb",
   "metadata": {},
   "outputs": [],
   "source": [
    "query_tokens= user_query.lower().split(\" \")"
   ]
  },
  {
   "cell_type": "code",
   "execution_count": 23,
   "id": "6b96d342",
   "metadata": {},
   "outputs": [],
   "source": [
    "document_tokens = document.lower().split(\" \")"
   ]
  },
  {
   "cell_type": "code",
   "execution_count": 24,
   "id": "871f8fe3",
   "metadata": {},
   "outputs": [
    {
     "data": {
      "text/plain": [
       "['i', 'am', 'an', 'indian', 'and', 'i', 'live', 'in', 'india']"
      ]
     },
     "execution_count": 24,
     "metadata": {},
     "output_type": "execute_result"
    }
   ],
   "source": [
    "query_tokens"
   ]
  },
  {
   "cell_type": "code",
   "execution_count": 25,
   "id": "2a06c850",
   "metadata": {},
   "outputs": [
    {
     "data": {
      "text/plain": [
       "['india',\n",
       " 'is',\n",
       " 'a',\n",
       " 'country',\n",
       " 'for',\n",
       " 'the',\n",
       " 'indians',\n",
       " 'and',\n",
       " 'for',\n",
       " 'everyone']"
      ]
     },
     "execution_count": 25,
     "metadata": {},
     "output_type": "execute_result"
    }
   ],
   "source": [
    "document_tokens"
   ]
  },
  {
   "cell_type": "code",
   "execution_count": 26,
   "id": "32949ce1",
   "metadata": {},
   "outputs": [],
   "source": [
    "query_counter = Counter(query_tokens)"
   ]
  },
  {
   "cell_type": "code",
   "execution_count": 27,
   "id": "fdee3a8e",
   "metadata": {},
   "outputs": [],
   "source": [
    "document_counter = Counter(document_tokens)"
   ]
  },
  {
   "cell_type": "code",
   "execution_count": 28,
   "id": "92196b65",
   "metadata": {},
   "outputs": [
    {
     "data": {
      "text/plain": [
       "Counter({'i': 2,\n",
       "         'am': 1,\n",
       "         'an': 1,\n",
       "         'indian': 1,\n",
       "         'and': 1,\n",
       "         'live': 1,\n",
       "         'in': 1,\n",
       "         'india': 1})"
      ]
     },
     "execution_count": 28,
     "metadata": {},
     "output_type": "execute_result"
    }
   ],
   "source": [
    "query_counter"
   ]
  },
  {
   "cell_type": "code",
   "execution_count": 29,
   "id": "1d83b4d0",
   "metadata": {},
   "outputs": [
    {
     "data": {
      "text/plain": [
       "Counter({'india': 1,\n",
       "         'is': 1,\n",
       "         'a': 1,\n",
       "         'country': 1,\n",
       "         'for': 2,\n",
       "         'the': 1,\n",
       "         'indians': 1,\n",
       "         'and': 1,\n",
       "         'everyone': 1})"
      ]
     },
     "execution_count": 29,
     "metadata": {},
     "output_type": "execute_result"
    }
   ],
   "source": [
    "document_counter"
   ]
  },
  {
   "cell_type": "code",
   "execution_count": 31,
   "id": "12a475d3",
   "metadata": {},
   "outputs": [],
   "source": [
    "#this is the sentence embeddiding but we will prefe word to word embedding\n",
    "#in this  isliye neeche vale cell mein and kara hai\n",
    "lst=[]\n",
    "for token in query_counter.keys():\n",
    "    lst.append(query_counter[token])"
   ]
  },
  {
   "cell_type": "code",
   "execution_count": 32,
   "id": "600c845b",
   "metadata": {},
   "outputs": [
    {
     "data": {
      "text/plain": [
       "[2, 1, 1, 1, 1, 1, 1, 1]"
      ]
     },
     "execution_count": 32,
     "metadata": {},
     "output_type": "execute_result"
    }
   ],
   "source": [
    "lst\n"
   ]
  },
  {
   "cell_type": "code",
   "execution_count": 37,
   "id": "53c8f109",
   "metadata": {},
   "outputs": [],
   "source": [
    "#stores the dot product\n",
    "my_list=[]\n",
    "for tokens in query_counter.keys() & document_counter.keys():\n",
    "    my_list.append(query_counter[tokens]*document_counter[tokens])"
   ]
  },
  {
   "cell_type": "code",
   "execution_count": 38,
   "id": "c6797f58",
   "metadata": {},
   "outputs": [
    {
     "data": {
      "text/plain": [
       "[1, 1]"
      ]
     },
     "execution_count": 38,
     "metadata": {},
     "output_type": "execute_result"
    }
   ],
   "source": [
    "my_list"
   ]
  },
  {
   "cell_type": "code",
   "execution_count": 45,
   "id": "833c3e0d",
   "metadata": {},
   "outputs": [],
   "source": [
    "dot_prod = sum(my_list)"
   ]
  },
  {
   "cell_type": "code",
   "execution_count": 40,
   "id": "53dfa25f",
   "metadata": {},
   "outputs": [],
   "source": [
    "query_magnitude = math.sqrt(sum(query_counter[token]**2 for token in query_counter))"
   ]
  },
  {
   "cell_type": "code",
   "execution_count": 41,
   "id": "66bb7abb",
   "metadata": {},
   "outputs": [
    {
     "data": {
      "text/plain": [
       "3.3166247903554"
      ]
     },
     "execution_count": 41,
     "metadata": {},
     "output_type": "execute_result"
    }
   ],
   "source": [
    "query_magnitude"
   ]
  },
  {
   "cell_type": "code",
   "execution_count": 43,
   "id": "c7f33277",
   "metadata": {},
   "outputs": [],
   "source": [
    "doc_magnitude = math.sqrt(sum(document_counter[token]**2 for token in document_counter))"
   ]
  },
  {
   "cell_type": "code",
   "execution_count": 44,
   "id": "f7042131",
   "metadata": {},
   "outputs": [
    {
     "data": {
      "text/plain": [
       "3.4641016151377544"
      ]
     },
     "execution_count": 44,
     "metadata": {},
     "output_type": "execute_result"
    }
   ],
   "source": [
    "doc_magnitude"
   ]
  },
  {
   "cell_type": "code",
   "execution_count": 47,
   "id": "e02fe0d9",
   "metadata": {},
   "outputs": [],
   "source": [
    "similarity = dot_prod/(query_magnitude*doc_magnitude)"
   ]
  },
  {
   "cell_type": "code",
   "execution_count": 48,
   "id": "e07a3f96",
   "metadata": {},
   "outputs": [
    {
     "data": {
      "text/plain": [
       "0.17407765595569785"
      ]
     },
     "execution_count": 48,
     "metadata": {},
     "output_type": "execute_result"
    }
   ],
   "source": [
    "similarity"
   ]
  },
  {
   "cell_type": "code",
   "execution_count": 49,
   "id": "afe27f04",
   "metadata": {},
   "outputs": [],
   "source": [
    "def cos_sim(query,document):\n",
    "    query_tokens= user_query.lower().split(\" \")\n",
    "    document_tokens = document.lower().split(\" \")\n",
    "    \n",
    "    query_counter = Counter(query_tokens)\n",
    "    document_counter = Counter(document_tokens)\n",
    "    \n",
    "    dot_prod = sum(query_counter[token]*document_counter[token] for token in query_counter.keys()& document_counter.keys())\n",
    "    \n",
    "    query_magnitude = math.sqrt(sum(query_counter[token]**2 for token in query_counter))\n",
    "    doc_magnitude = math.sqrt(sum(document_counter[token]**2 for token in document_counter))\n",
    "    \n",
    "    similarity = dot_prod/(query_magnitude*doc_magnitude)\n",
    "    \n",
    "    return similarity"
   ]
  },
  {
   "cell_type": "code",
   "execution_count": 70,
   "id": "cdbde79e",
   "metadata": {},
   "outputs": [],
   "source": [
    "user_query = \"is yoga good for health\"\n",
    "doc = \"yoga is very good for living healthy lifestyle\""
   ]
  },
  {
   "cell_type": "code",
   "execution_count": 71,
   "id": "116cdbab",
   "metadata": {},
   "outputs": [
    {
     "data": {
      "text/plain": [
       "0.6324555320336759"
      ]
     },
     "execution_count": 71,
     "metadata": {},
     "output_type": "execute_result"
    }
   ],
   "source": [
    "cos_sim(user_query, doc)"
   ]
  },
  {
   "cell_type": "code",
   "execution_count": 93,
   "id": "fbbdb57a",
   "metadata": {},
   "outputs": [],
   "source": [
    "def return_response(query, corpus):\n",
    "    similarities = []\n",
    "    for doc in corpus:\n",
    "        similarity = cos_sim(query, doc)\n",
    "        similarities.append(similarity)\n",
    "    return corpus[similarities.index(max(similarities))]"
   ]
  },
  {
   "cell_type": "code",
   "execution_count": 100,
   "id": "3af37c09",
   "metadata": {},
   "outputs": [],
   "source": [
    "user_input = \"i like fresh air\""
   ]
  },
  {
   "cell_type": "code",
   "execution_count": 99,
   "id": "4ccea696",
   "metadata": {},
   "outputs": [],
   "source": [
    "relevant_document = return_response(user_q, corpus_of_documents)"
   ]
  },
  {
   "cell_type": "code",
   "execution_count": 96,
   "id": "808df371",
   "metadata": {},
   "outputs": [],
   "source": [
    "q = \"like to have picnic with friends\""
   ]
  },
  {
   "cell_type": "code",
   "execution_count": 97,
   "id": "bf642b95",
   "metadata": {},
   "outputs": [
    {
     "data": {
      "text/plain": [
       "'Go for a hike and admire the natural scenery.'"
      ]
     },
     "execution_count": 97,
     "metadata": {},
     "output_type": "execute_result"
    }
   ],
   "source": [
    "return_response(q, corpus_of_documents)"
   ]
  },
  {
   "cell_type": "code",
   "execution_count": 102,
   "id": "64a48326",
   "metadata": {},
   "outputs": [
    {
     "name": "stdout",
     "output_type": "stream",
     "text": [
      " Great! Based on your input, I recommend going for a hike in a nearby nature reserve or park. The fresh air and scenic views will be sure to impress. Enjoy your hike!\n"
     ]
    }
   ],
   "source": [
    "import requests\n",
    "import json\n",
    "\n",
    "full_response = []\n",
    "prompt = \"\"\"\n",
    "You are a bot that makes recommendations for activities. You answer in very short sentences and do not include extra information.\n",
    "This is the recommended activity: {relevant_document}\n",
    "The user input is: {user_input}\n",
    "Compile a recommendation to the user based on the recommended activity and the user input.\n",
    "\"\"\"\n",
    "\n",
    "url = 'http://localhost:11434/api/generate'\n",
    "\n",
    "data = {\n",
    "    \"model\": \"llama2\",\n",
    "    \"prompt\": prompt.format(user_input=user_input, relevant_document=relevant_document)\n",
    "}\n",
    "\n",
    "headers = {'Content-Type': 'application/json'}\n",
    "\n",
    "response = requests.post(url, data=json.dumps(data), headers=headers, stream=True)\n",
    "try:\n",
    "    for line in response.iter_lines():\n",
    "        if line:\n",
    "            decoded_line = json.loads(line.decode('utf-8'))\n",
    "            full_response.append(decoded_line['response'])\n",
    "finally:\n",
    "    response.close()\n",
    "\n",
    "print(''.join(full_response))\n"
   ]
  }
 ],
 "metadata": {
  "kernelspec": {
   "display_name": "Python 3 (ipykernel)",
   "language": "python",
   "name": "python3"
  },
  "language_info": {
   "codemirror_mode": {
    "name": "ipython",
    "version": 3
   },
   "file_extension": ".py",
   "mimetype": "text/x-python",
   "name": "python",
   "nbconvert_exporter": "python",
   "pygments_lexer": "ipython3",
   "version": "3.9.13"
  }
 },
 "nbformat": 4,
 "nbformat_minor": 5
}
